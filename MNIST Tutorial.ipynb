{
 "cells": [
  {
   "cell_type": "code",
   "execution_count": null,
   "metadata": {
    "collapsed": false
   },
   "outputs": [],
   "source": [
    "'''Train a simple deep NN on the MNIST dataset.\n",
    "Get to 98.40% test accuracy after 20 epochs\n",
    "(there is *a lot* of margin for parameter tuning).\n",
    "2 seconds per epoch on a K520 GPU.\n",
    "'''\n",
    "from __future__ import absolute_import\n",
    "from __future__ import print_function\n",
    "import numpy as np\n",
    "np.random.seed(1337)  # for reproducibility\n",
    "nb_epoch = 1\n",
    "\n",
    "from keras.datasets import mnist\n",
    "(X_train, y_train), (X_test, y_test) = mnist.load_data()"
   ]
  },
  {
   "cell_type": "code",
   "execution_count": null,
   "metadata": {
    "collapsed": false
   },
   "outputs": [],
   "source": [
    "print(X_train.shape, y_train.shape)"
   ]
  },
  {
   "cell_type": "code",
   "execution_count": null,
   "metadata": {
    "collapsed": true
   },
   "outputs": [],
   "source": [
    "%matplotlib inline\n",
    "import matplotlib\n",
    "import matplotlib.pyplot as plt\n",
    "\n",
    "def plot_mnist_digit(image, figsize=None):\n",
    "    \"\"\" Plot a single MNIST image.\"\"\"\n",
    "    fig = plt.figure()\n",
    "    ax = fig.add_subplot(1, 1, 1)\n",
    "    if figsize:\n",
    "        ax.set_figsize(*figsize)\n",
    "    ax.matshow(image, cmap = matplotlib.cm.binary)\n",
    "    plt.xticks(np.array([]))\n",
    "    plt.yticks(np.array([]))\n",
    "    plt.show()"
   ]
  },
  {
   "cell_type": "code",
   "execution_count": null,
   "metadata": {
    "collapsed": false
   },
   "outputs": [],
   "source": [
    "i = np.random.randint(len(X_train))\n",
    "plot_mnist_digit(X_train[i])\n",
    "print(i, ':', y_train[i])"
   ]
  },
  {
   "cell_type": "code",
   "execution_count": null,
   "metadata": {
    "collapsed": false
   },
   "outputs": [],
   "source": [
    "def plot_10_by_10_images(images, figsize=None):\n",
    "    \"\"\" Plot 100 MNIST images in a 10 by 10 table. Note that we crop\n",
    "    the images so that they appear reasonably close together.  The\n",
    "    image is post-processed to give the appearance of being continued.\"\"\"\n",
    "    fig = plt.figure(figsize=figsize)\n",
    "    #images = [image[3:25, 3:25] for image in images]\n",
    "    #image = np.concatenate(images, axis=1)\n",
    "    for x in range(10):\n",
    "        for y in range(10):\n",
    "            ax = fig.add_subplot(10, 10, 10*y+x+1)\n",
    "            ax.matshow(images[10*y+x], cmap = matplotlib.cm.binary)\n",
    "            plt.xticks(np.array([]))\n",
    "            plt.yticks(np.array([]))\n",
    "    plt.show()\n",
    "    \n",
    "plot_10_by_10_images(X_train, figsize=(10,10))"
   ]
  },
  {
   "cell_type": "code",
   "execution_count": null,
   "metadata": {
    "collapsed": false
   },
   "outputs": [],
   "source": [
    "def to_features(X):\n",
    "    return X.reshape(-1, 784).astype(\"float32\") / 255.0\n",
    "\n",
    "def to_image(X):\n",
    "    return (X*255.0).astype('uint8').reshape(-1, 28, 28)\n",
    "\n",
    "print((X_train[0]-(to_image(to_features(X_train[0])))).max())"
   ]
  },
  {
   "cell_type": "code",
   "execution_count": null,
   "metadata": {
    "collapsed": false
   },
   "outputs": [],
   "source": [
    "print(X_train[0].shape)\n",
    "print(to_features(X_train[0]).shape)\n",
    "print(to_image(to_features(X_train))[0].shape)"
   ]
  },
  {
   "cell_type": "code",
   "execution_count": null,
   "metadata": {
    "collapsed": false
   },
   "outputs": [],
   "source": [
    "# the data, shuffled and split between train and test sets\n",
    "X_train = to_features(X_train)\n",
    "X_test = to_features(X_test)\n",
    "print(X_train.shape, 'train samples')\n",
    "print(X_test.shape, 'test samples')"
   ]
  },
  {
   "cell_type": "code",
   "execution_count": null,
   "metadata": {
    "collapsed": false
   },
   "outputs": [],
   "source": [
    "# The labels need to be transformed into class indicators\n",
    "from keras.utils import np_utils\n",
    "nb_classes = 10\n",
    "y_train_cat = np_utils.to_categorical(y_train, nb_classes=nb_classes)\n",
    "y_test_cat = np_utils.to_categorical(y_test, nb_classes=nb_classes)\n",
    "print(y_train_cat.shape, 'train labels')\n",
    "print(y_test_cat.shape, 'test labels')"
   ]
  },
  {
   "cell_type": "markdown",
   "metadata": {},
   "source": [
    "## Simple Multi-Layer Perceptron"
   ]
  },
  {
   "cell_type": "code",
   "execution_count": null,
   "metadata": {
    "collapsed": true
   },
   "outputs": [],
   "source": [
    "from keras.models import Sequential\n",
    "from keras.layers.core import Dense, Activation\n",
    "mlp = Sequential()\n",
    "mlp.add(Dense(output_dim=512, input_dim=784, init='uniform'))\n",
    "mlp.add(Activation('sigmoid'))\n",
    "mlp.add(Dense(output_dim=nb_classes, input_dim=512, init='uniform'))\n",
    "mlp.add(Activation('softmax'))"
   ]
  },
  {
   "cell_type": "code",
   "execution_count": null,
   "metadata": {
    "collapsed": false,
    "scrolled": false
   },
   "outputs": [],
   "source": [
    "mlp.compile(loss='categorical_crossentropy', optimizer='SGD')"
   ]
  },
  {
   "cell_type": "code",
   "execution_count": null,
   "metadata": {
    "collapsed": false
   },
   "outputs": [],
   "source": [
    "mlp.fit(X_train, y_train_cat, batch_size=128, nb_epoch=nb_epoch, verbose=1, show_accuracy=True)"
   ]
  },
  {
   "cell_type": "code",
   "execution_count": null,
   "metadata": {
    "collapsed": false
   },
   "outputs": [],
   "source": [
    "mlp.evaluate(X_test, y_test_cat, show_accuracy=True)"
   ]
  },
  {
   "cell_type": "code",
   "execution_count": null,
   "metadata": {
    "collapsed": false
   },
   "outputs": [],
   "source": [
    "j = np.random.randint(len(X_test))\n",
    "plot_mnist_digit(X_test[j].reshape(28,28))\n",
    "prediction = mlp.predict_classes(X_test[j:j+1], verbose=False)[0]\n",
    "print(j, ':', '\\tpredict:', prediction, '\\tactual:', y_test[j])"
   ]
  },
  {
   "cell_type": "markdown",
   "metadata": {},
   "source": [
    "## A Deeper MLP"
   ]
  },
  {
   "cell_type": "code",
   "execution_count": null,
   "metadata": {
    "collapsed": false
   },
   "outputs": [],
   "source": [
    "mlp2 = Sequential()\n",
    "mlp2.add(Dense(output_dim=512, input_dim=784, init='uniform'))\n",
    "mlp2.add(Activation('sigmoid'))\n",
    "mlp2.add(Dense(output_dim=512, input_dim=512, init='uniform'))\n",
    "mlp2.add(Activation('sigmoid'))\n",
    "mlp2.add(Dense(output_dim=nb_classes, input_dim=512, init='uniform'))\n",
    "mlp2.add(Activation('softmax'))"
   ]
  },
  {
   "cell_type": "code",
   "execution_count": null,
   "metadata": {
    "collapsed": false
   },
   "outputs": [],
   "source": [
    "mlp2.compile(loss='categorical_crossentropy', optimizer='SGD')"
   ]
  },
  {
   "cell_type": "code",
   "execution_count": null,
   "metadata": {
    "collapsed": false
   },
   "outputs": [],
   "source": [
    "mlp2.fit(X_train, y_train_cat, batch_size=128, nb_epoch=nb_epoch, show_accuracy=True, verbose=1)"
   ]
  },
  {
   "cell_type": "code",
   "execution_count": null,
   "metadata": {
    "collapsed": false
   },
   "outputs": [],
   "source": [
    "mlp2.evaluate(X_test, y_test_cat, show_accuracy=True)"
   ]
  },
  {
   "cell_type": "markdown",
   "metadata": {},
   "source": [
    "## A More Modern MLP"
   ]
  },
  {
   "cell_type": "code",
   "execution_count": null,
   "metadata": {
    "collapsed": true
   },
   "outputs": [],
   "source": [
    "from keras.layers.core import Dropout\n",
    "mlp3 = Sequential()\n",
    "mlp3.add(Dense(output_dim=512, input_dim=784, init='uniform'))\n",
    "mlp3.add(Activation('relu'))\n",
    "mlp3.add(Dropout(0.2))\n",
    "mlp3.add(Dense(output_dim=512, input_dim=512, init='uniform'))\n",
    "mlp3.add(Activation('relu'))\n",
    "mlp3.add(Dropout(0.2))\n",
    "\n",
    "mlp3.add(Dense(output_dim=512, input_dim=512, init='uniform'))\n",
    "mlp3.add(Activation('relu'))\n",
    "mlp3.add(Dropout(0.2))\n",
    "\n",
    "mlp3.add(Dense(output_dim=nb_classes, input_dim=512, init='uniform'))\n",
    "mlp3.add(Activation('softmax'))"
   ]
  },
  {
   "cell_type": "code",
   "execution_count": null,
   "metadata": {
    "collapsed": true
   },
   "outputs": [],
   "source": [
    "mlp3.compile(loss='categorical_crossentropy', optimizer='SGD')"
   ]
  },
  {
   "cell_type": "code",
   "execution_count": null,
   "metadata": {
    "collapsed": false
   },
   "outputs": [],
   "source": [
    "mlp3.fit(X_train, y_train_cat, batch_size=128, nb_epoch=nb_epoch, show_accuracy=True, verbose=1)"
   ]
  },
  {
   "cell_type": "code",
   "execution_count": null,
   "metadata": {
    "collapsed": false
   },
   "outputs": [],
   "source": [
    "mlp3.evaluate(X_test, y_test_cat, show_accuracy=True)"
   ]
  },
  {
   "cell_type": "code",
   "execution_count": null,
   "metadata": {
    "collapsed": false
   },
   "outputs": [],
   "source": [
    "#open('mlp2_model.yaml', 'w').write(mlp3.to_yaml())\n",
    "#mlp3.save_weights('mlp3_weights.hdf5')"
   ]
  },
  {
   "cell_type": "markdown",
   "metadata": {},
   "source": [
    "## Simple Autoencoder"
   ]
  },
  {
   "cell_type": "code",
   "execution_count": null,
   "metadata": {
    "collapsed": false
   },
   "outputs": [],
   "source": [
    "#creating the autoencoder\n",
    "from keras.layers import containers\n",
    "from keras.layers.core import AutoEncoder\n",
    "ae = Sequential()\n",
    "encoder = containers.Sequential()\n",
    "encoder.add(Dense(input_dim=784, output_dim=512, init='uniform'))\n",
    "encoder.add(Activation('relu'))\n",
    "encoder.add(Dropout(0.2))\n",
    "decoder = containers.Sequential()\n",
    "decoder.add(Dense(512, 784, init='uniform'))\n",
    "decoder.add(Activation('relu'))\n",
    "ae.add(AutoEncoder(encoder=encoder, decoder=decoder,\n",
    "                   output_reconstruction=True))"
   ]
  },
  {
   "cell_type": "code",
   "execution_count": null,
   "metadata": {
    "collapsed": true
   },
   "outputs": [],
   "source": [
    "ae.compile(loss='mean_squared_error', optimizer='SGD')"
   ]
  },
  {
   "cell_type": "code",
   "execution_count": null,
   "metadata": {
    "collapsed": false
   },
   "outputs": [],
   "source": [
    "ae.fit(X_train, X_train, batch_size=128, nb_epoch=np_epoch, show_accuracy=True, verbose=1)"
   ]
  },
  {
   "cell_type": "code",
   "execution_count": null,
   "metadata": {
    "collapsed": true
   },
   "outputs": [],
   "source": [
    "# plot example reconstruction here"
   ]
  },
  {
   "cell_type": "code",
   "execution_count": null,
   "metadata": {
    "collapsed": true
   },
   "outputs": [],
   "source": []
  }
 ],
 "metadata": {
  "kernelspec": {
   "display_name": "Python 2",
   "language": "python",
   "name": "python2"
  },
  "language_info": {
   "codemirror_mode": {
    "name": "ipython",
    "version": 2
   },
   "file_extension": ".py",
   "mimetype": "text/x-python",
   "name": "python",
   "nbconvert_exporter": "python",
   "pygments_lexer": "ipython2",
   "version": "2.7.10"
  }
 },
 "nbformat": 4,
 "nbformat_minor": 0
}
